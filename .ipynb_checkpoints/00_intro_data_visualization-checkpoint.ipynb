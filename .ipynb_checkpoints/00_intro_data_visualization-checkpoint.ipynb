{
 "cells": [
  {
   "cell_type": "markdown",
   "id": "9d2b0f53-bc44-49e2-9ecc-30c513f720a2",
   "metadata": {},
   "source": [
    "# Data dan Visualisasi Data\n",
    "oleh : Afif A. Iskandar\n",
    "\n",
    "Machine learning, Data Mining dan sebagian besar dari Artificial Intelligence memerlukan analisis dan perhitungan statistik pada data. Dalam notebook ini, Anda akan mempelajari beberapa konsep dasar yang terkait dengan data dan visualisasi data."
   ]
  },
  {
   "cell_type": "markdown",
   "id": "65eb2b79-75af-4e9e-a076-8bbfb2c9c325",
   "metadata": {},
   "source": [
    "## Pengenalan Mengenai Data\n",
    "\n",
    "Statistik didasarkan pada data, yang terdiri dari kumpulan potongan informasi tentang hal-hal yang ingin Anda ketahui. Informasi ini dapat berupa deskripsi, besaran, pengukuran, dan pengamatan lainnya.\n",
    "Biasanya, kita berkutat dengan *dataset*, yang sering kali terdiri dari kumpulan *pengamatan* atau *observasi*.\n",
    "Umumnya, kumpulan data ini berbetuk tabular yang terdiri dari baris untuk setiap pengamatan atau sampel, dan kolom untuk setiap titik data individu yang terkait dengan pengamatan itu, kita menyebut hal tersebut dengan *atribut* atau *fitur*, dan masing-masing menggambarkan karakteristik dari hal yang kita amati."
   ]
  },
  {
   "cell_type": "markdown",
   "id": "024fb4dd-e3da-4a08-8e21-efa290606ec6",
   "metadata": {},
   "source": [
    "Berikut adalah contoh dari data. Pada tahun 1886, Francis Galton melakukan penelitian tentang hubungan antara tinggi badan orang tua dan anak-anak mereka (dewasa).\n",
    "Data tersebut dapat kita akses dengan menggunakan library *statsmodel*, namun nantinya kita juga akan pelajari bagaimana cara membuka data kita sendiri dengan menggunakan Python.\n",
    "\n",
    "Jalankan kode Python dibawah ini untuk mengakses data tersebut"
   ]
  },
  {
   "cell_type": "code",
   "execution_count": null,
   "id": "a38bc8f5-a9d6-482e-b86d-c490e7f4865e",
   "metadata": {},
   "outputs": [],
   "source": [
    "import statsmodels.api as sm\n",
    "\n",
    "df = sm.datasets.get_rdataset('GaltonFamilies', package='HistData').data\n",
    "df"
   ]
  },
  {
   "cell_type": "markdown",
   "id": "260abcc6-fa8f-48ef-b8b2-3526413bbfbe",
   "metadata": {},
   "source": [
    "### Tipe Data\n",
    "\n",
    "Dari data diatas, ada 933 pengamatan / sampel, masing-masing mencatat informasi yang berkaitan dengan seorang anak. Informasi yang dicatat terdiri dari fitur-fitur berikut:\n",
    "\n",
    "- **family**: Identifier terkait anggota keluarga yang bersangkutan\n",
    "- **father**: Tinggi badan ayah.\n",
    "- **mother**: Tinggi badan Ibu.\n",
    "- **midparentHeight**: Titik tengah antara tinggi badan ayah dan ibu (dihitung menggunakan formulasi *(father + 1.08 x mother) &div; 2*)\n",
    "- **children**: Jumlah anak pada keluarga tersebut.\n",
    "- **childNum**: Urutan anak (berdasarkan tinggi, jika tinggi anak sama maka diurutkan laki-laki terlebih dahulu)\n",
    "- **gender**: Jenis kelamin anak.\n",
    "- **childHeight**: Tinggi badan anak.\n",
    "\n",
    "Sebagai catatan, ada beberapa jenis data berbeda yang muncul di sini. Ada beberapa fitur yang mewakili *kualitas*, atau karakteristik anak - misalnya, **gender**, ada juga fitur lain yang mewakili *kuantitas* atau pengukuran, seperti **childHeight**. Secara garis besar, kita dapat membagi data menjadi *kualitatif* dan *kuantitatif*."
   ]
  },
  {
   "cell_type": "markdown",
   "id": "dd490c9b-0dda-42a8-8fce-ce273d4c4697",
   "metadata": {},
   "source": [
    "#### Data Kualitatif\n",
    "Jenis data ini bersifat kategorik, digunakan untuk mengkategorikan atau mengidentifikasi entitas yang diamati. Kadang-kadang Anda akan melihat fitur jenis ini digambarkan sebagai *faktor*.\n",
    "\n",
    "##### Data Nominal\n",
    "Dalam pengamatannya tentang tinggi badan anak-anak, Galton menetapkan pengenal untuk setiap keluarga dan dia mencatat jenis kelamin setiap anak. Perhatikan bahwa meskipun pengidentifikasi **keluarga** adalah angka, itu bukan ukuran atau kuantitas. Keluarga 002 tidak \"lebih besar\" dari keluarga 001, seperti halnya nilai **gender** dari \"laki-laki\" tidak menunjukkan nilai yang lebih besar atau lebih kecil dari \"perempuan\". Ini hanyalah nilai bernama untuk beberapa karakteristik anak, dan karena itu mereka dikenal sebagai data *nominal*.\n",
    "\n",
    "##### Data Ordinal\n",
    "Lalu bagaimana dengan fitur **childNum**? Ini bukan ukuran atau kuantitas, ini hanya cara untuk mengidentifikasi anak-anak secara individu dalam sebuah keluarga. Namun, nomor yang diberikan untuk setiap anak memiliki beberapa arti tambahan sehingga nomor tersebut diurutkan. Anda dapat menemukan data serupa yang berbasis teks, misalnya, data tentang kursus pelatihan mungkin menyertakan atribut \"level\" yang menunjukkan tingkat kursus sebagai \"dasar, \"menengah\", atau \"lanjutan\". Jenis data ini, di mana nilainya bukan kuantitas atau pengukuran , tetapi menunjukkan semacam urutan atau hierarki bawaan, yang dikenal sebagai data *ordinal*."
   ]
  },
  {
   "cell_type": "markdown",
   "id": "7a0bac1e-625c-4a60-9efa-d7645139b5cd",
   "metadata": {},
   "source": [
    "#### Data Kuantitatif\n",
    "Jenis data ini bersifat numerik, seringkali dihasilkan dari hasil pengukuran, penghitungan dan semacamnya\n",
    "\n",
    "##### Data Diskrit\n",
    "Pengamatan Galton mencakup jumlah **children** di setiap keluarga. Ini adalah nilai data kuantitatif *diskrit*, ini adalah sesuatu yang di*hitung*. Tidak mungkin Anda mendata suatu keluarga memiliki 3.14 anak.\n",
    "\n",
    "##### Data Kontinu\n",
    "Kumpulan data juga menyertakan nilai tinggi badan untuk **father**, **mother**, **midparentHeight**, dan **childHeight**. Ini adalah pengukuran di sepanjang skala, oleh karena itu data ini digambarkan sebagai sesuatu yang *kontinu*."
   ]
  },
  {
   "cell_type": "markdown",
   "id": "659669b0-816f-4b36-82d2-4e375375fef9",
   "metadata": {},
   "source": [
    "### Populasi vs Sampel\n",
    "\n",
    "Dataset Galton mencakup 933 pengamatan. Artinya Galton tidak memperhitungkan setiap orang di dunia, atau bahkan hanya Inggris, pada tahun 1886 ketika data dikumpulkan. Dengan kata lain, data Galton mewakili *sampel* dari *populasi* yang lebih besar. Mari kita diskusikan, apakah data ini (sampel) representatif terhadap sesuatu yang lebih besar (populasi) ?"
   ]
  },
  {
   "cell_type": "markdown",
   "id": "0987db71-2f45-48bb-a59c-93901f7ee902",
   "metadata": {},
   "source": [
    "## Visualisasi Data\n",
    "Visualisasi data adalah salah satu cara utama di mana kita dapat memeriksa data dan mendapatkan insight darinya. Jika sebuah gambar bernilai seribu kata, maka grafik atau bagan yang baik bernilai berapa pun tabel datanya.\n",
    "\n",
    "Mari kita coba beberapa jenis grafik yang sering digunakan untuk visualisasi data\n",
    "#### Diagram batang\n",
    "*Diagram batang* adalah cara yang baik untuk membandingkan jumlah atau jumlah numerik di seluruh kategori. Misalnya, dalam kumpulan data Galton, Anda mungkin ingin membandingkan jumlah anak perempuan dan laki-laki.\n",
    "\n",
    "Berikut beberapa kode Python untuk membuat diagram batang yang menunjukkan jumlah anak dari setiap jenis kelamin."
   ]
  },
  {
   "cell_type": "code",
   "execution_count": null,
   "id": "41ef843a-1cd0-4226-93e1-f2396e1e1c25",
   "metadata": {},
   "outputs": [],
   "source": [
    "import statsmodels.api as sm\n",
    "from matplotlib import pyplot as plt\n",
    "\n",
    "# load data\n",
    "df = sm.datasets.get_rdataset('GaltonFamilies', package='HistData').data\n",
    "\n",
    "# Hitung jumlah gender dari kolom gender\n",
    "jumlah_anak_per_gender = df['gender'].value_counts()\n",
    "\n",
    "# Gambar diagram batang\n",
    "jumlah_anak_per_gender.plot(kind='bar', title='Jumlah Anak per Gender')\n",
    "plt.xlabel('Gender')\n",
    "plt.ylabel('Jumlah Anak')"
   ]
  },
  {
   "cell_type": "markdown",
   "id": "6b751220-6244-4f87-9041-c7ceaaea1038",
   "metadata": {},
   "source": [
    "Dari grafik ini, Anda dapat melihat bahwa jumlah anak laki-laki sedikit lebih banyak daripada anak perempuan; tetapi data tersebut cukup terbagi rata antara kedua jenis kelamin.\n",
    "\n",
    "Grafik batang biasanya digunakan untuk membandingkan nilai data kategorikal (kualitatif), tetapi dalam beberapa kasus Anda mungkin memperlakukan nilai data kuantitatif diskrit sebagai sebuah kategori. Misalnya, dalam kumpulan data Galton jumlah anak di setiap keluarga dapat digunakan sebagai cara untuk mengkategorikan keluarga. Kita mungkin ingin melihat berapa banyak keluarga yang memiliki satu anak, dibandingkan dengan berapa banyak yang memiliki dua anak, dll.\n",
    "\n",
    "Berikut beberapa kode Python untuk membuat diagram batang untuk menampilkan jumlah anak dalam sebuah keluarga"
   ]
  },
  {
   "cell_type": "code",
   "execution_count": null,
   "id": "f36c1aed-a624-416f-a036-067bfb1ad941",
   "metadata": {},
   "outputs": [],
   "source": [
    "# Ambil kolom yang dibutuhkan\n",
    "families = df[['family', 'children']].drop_duplicates()\n",
    "# Hitung jumlah keluarga yang memiliki jumlah anak tertentu, diurutkan berdasarkan jumlah anak\n",
    "jumlah_anak = families['children'].value_counts().sort_index()\n",
    "\n",
    "# Gambar diagram batang\n",
    "jumlah_anak.plot(kind='bar', title='Jumlah Anak dalam Keluarga')\n",
    "plt.xlabel('Jumlah Anak')\n",
    "plt.ylabel('Jumlah Keluarga')"
   ]
  },
  {
   "cell_type": "markdown",
   "id": "e47fd6ee-603a-43b2-8463-a82cf6ec6f52",
   "metadata": {},
   "source": [
    "Bagaimana cara menceritakan grafik diatas ?\n"
   ]
  },
  {
   "cell_type": "markdown",
   "id": "f86a781d-7953-4599-b2f5-9b412fcb611f",
   "metadata": {},
   "source": [
    "#### Histogram\n",
    "\n",
    "Diagram batang berfungsi dengan baik untuk membandingkan nilai numerik kategorikal atau diskrit. Saat Anda perlu membandingkan nilai kuantitatif kontinu, Anda dapat menggunakan bentuk bagan serupa yang disebut histogram. Histogram berbeda dari bagan batang dalam hal mereka mengelompokkan nilai berkelanjutan ke dalam rentang, jadi bagan tidak menunjukkan batang untuk setiap nilai individual, melainkan batang untuk setiap rentang nilai yang dikumpulkan. Karena bagan ini mewakili data berkelanjutan daripada data diskrit, batang tidak dipisahkan oleh celah. Biasanya, histogram digunakan untuk menunjukkan frekuensi relatif nilai dalam kumpulan data.\n",
    "\n",
    "Berikut beberapa kode Python untuk membuat histogram untuk kolom **father** di dataset Galton, yang mencatat tinggi ayah:"
   ]
  },
  {
   "cell_type": "code",
   "execution_count": null,
   "id": "9be03be1-81df-4ab4-ab04-8b8318238a00",
   "metadata": {},
   "outputs": [],
   "source": [
    "# Plot histogram\n",
    "\n",
    "df['father'].plot.hist(title='Tinggi Ayah')\n",
    "plt.xlabel('Tinggi')\n",
    "plt.ylabel('Frekuensi')"
   ]
  },
  {
   "cell_type": "markdown",
   "id": "9b17e0e4-e653-4dfa-b70a-158cf09ea2e1",
   "metadata": {},
   "source": [
    "Bagaimana cara menceritakan grafik diatas ?"
   ]
  },
  {
   "cell_type": "markdown",
   "id": "280a7bd4-ce35-4949-8cc8-9680eddddd7e",
   "metadata": {},
   "source": [
    "Anda bisa melakukan modifikasi histogram dengan menambahkan argumen `bins` untuk mengubah rentang dari masing-masing batang"
   ]
  },
  {
   "cell_type": "code",
   "execution_count": null,
   "id": "f1842c01-88a4-4335-a6ea-5b98f84766ce",
   "metadata": {},
   "outputs": [],
   "source": [
    "# Plot histogram\n",
    "\n",
    "df['father'].plot.hist(title='Tinggi Ayah', bins=15)\n",
    "plt.xlabel('Tinggi')\n",
    "plt.ylabel('Frekuensi')"
   ]
  },
  {
   "cell_type": "markdown",
   "id": "0d0c7eeb-bb55-48ec-9707-0ed23c31d426",
   "metadata": {},
   "source": [
    "#### Pie Chart\n",
    "\n",
    "Pie chart adalah cara lain untuk membandingkan jumlah kategori yang relatif sebagai alternatif dari diagram batang."
   ]
  },
  {
   "cell_type": "code",
   "execution_count": null,
   "id": "fcece71a-f099-40fd-af19-2ab4668f2f1e",
   "metadata": {},
   "outputs": [],
   "source": [
    "# Agregasi data dari kolom `gender`\n",
    "jumlah_anak_per_gender = df['gender'].value_counts()\n",
    "\n",
    "jumlah_anak_per_gender.plot(kind='pie', title='Jumlah Anak per Gender', figsize=(6,6))\n",
    "plt.legend()"
   ]
  },
  {
   "cell_type": "markdown",
   "id": "fdceb216-a0b2-48b6-a7f1-e065a0f0bf5d",
   "metadata": {},
   "source": [
    "Perhatikan bahwa grafik menyertakan legenda/keterangan untuk memperjelas kategori apa yang diwakili oleh setiap area berwarna dalam pie chart ini.\n",
    "Bisakah anda menceritakan grafik diatas ?"
   ]
  },
  {
   "cell_type": "markdown",
   "id": "dc950cf9-85e5-4907-a26c-d640f3a7a4c4",
   "metadata": {},
   "source": [
    "#### Scatter Plot\n",
    "\n",
    "Seringkali kita ingin mengetahui hubungan antara dua variabel yang ada pada dataset kita. Jika Anda sudah mempelajari mengenai *machine learing*, Anda memerlukan proses EDA (Exploratory Data Analysis) yang salah satunya adalah melihat apakah ada korelasi yang terbentuk dari 2 fitur yang kita miliki sebelum kita membuat model *machine learning*.\n",
    "Salah satu grafik yang sangat berguna untuk kasus diatas adalah scatterplot\n",
    "\n",
    "Berikut adalah contoh dari scatterplot dari kolom **midparentHeight** pada sumbu x, dan **childHeight** pada sumbu y"
   ]
  },
  {
   "cell_type": "code",
   "execution_count": null,
   "id": "a2326715-8131-412b-a887-97978f4825b5",
   "metadata": {},
   "outputs": [],
   "source": [
    "# Ambil 2 kolom yang ingin diperhatikan\n",
    "berat_orangtua_anak = df[['midparentHeight', 'childHeight']]\n",
    "\n",
    "# buat scatterplot\n",
    "berat_orangtua_anak.plot(kind='scatter', title='Tinggi Orang Tua vs Anak', x='midparentHeight', y='childHeight')\n",
    "plt.xlabel('midparentHeight')\n",
    "plt.ylabel('childHeight')"
   ]
  },
  {
   "cell_type": "markdown",
   "id": "6a99bf94-b08a-48c6-afde-ea2504dc7d52",
   "metadata": {},
   "source": [
    "Dapatkah anda menceritakan grafik diatas ?"
   ]
  },
  {
   "cell_type": "markdown",
   "id": "057e83ff-3663-4976-95f0-63dba29dd453",
   "metadata": {},
   "source": [
    "#### Grafik Korelasi\n",
    "\n",
    "Apabila kita ingin sekaligus mendapatkan hubungan antar variabel tanpa harus membandingkannya per dua kolom, Anda bisa menggunakan korelasi.\n",
    "Matriks korelasi dapat divisualisasikan dengan menggunakan heatmap"
   ]
  },
  {
   "cell_type": "code",
   "execution_count": null,
   "id": "6b2e0b43-f787-48ec-b0f4-ff61f5f768ed",
   "metadata": {},
   "outputs": [],
   "source": [
    "import seaborn as sns\n",
    "\n",
    "#Melihat korelasi antar variabel dalam suatu heatmap\n",
    "plt.figure(figsize=(8,10))\n",
    "sns.heatmap(df.corr(), annot=True)\n",
    "plt.title(\"Heatmap korelasi\")"
   ]
  },
  {
   "cell_type": "markdown",
   "id": "271b19e2-c51f-439c-bfa0-9a776a6787f4",
   "metadata": {},
   "source": [
    "#### Diagram Garis\n",
    "\n",
    "Diagram garis adalah diagram yang bagus untuk melihat perubahan nilai di sepanjang data, biasanya (tetapi tidak selalu) berdasarkan periode waktu. Kumpulan data Galton tidak menyertakan data jenis ini, jadi kita akan menggunakan kumpulan data berbeda yang mencakup pengamatan suhu rata-rata tahunan di New Haven antara tahun 1912 dan 1971 untuk contoh ini"
   ]
  },
  {
   "cell_type": "code",
   "execution_count": null,
   "id": "70f92ef6-71bf-47ac-8b93-ed4562a23681",
   "metadata": {},
   "outputs": [],
   "source": [
    "# akses data menggunakan statsmodel\n",
    "df = sm.datasets.get_rdataset('nhtemp', package='datasets').data\n",
    "\n",
    "\n",
    "df.plot(title='Rata-rata Suhu di New Haven', x='time', y='value')\n",
    "plt.xlabel('Tahun')\n",
    "plt.ylabel('Rata-rata Suhu')"
   ]
  },
  {
   "cell_type": "markdown",
   "id": "c001f7ae-1f16-4eb7-97da-96be59abe504",
   "metadata": {},
   "source": [
    "Dapatkah Anda menceritakan grafik diatas ? "
   ]
  },
  {
   "cell_type": "code",
   "execution_count": null,
   "id": "5cc58608-86ad-46a5-85e0-78850a11be09",
   "metadata": {},
   "outputs": [],
   "source": []
  }
 ],
 "metadata": {
  "kernelspec": {
   "display_name": "Python 3",
   "language": "python",
   "name": "python3"
  },
  "language_info": {
   "codemirror_mode": {
    "name": "ipython",
    "version": 3
   },
   "file_extension": ".py",
   "mimetype": "text/x-python",
   "name": "python",
   "nbconvert_exporter": "python",
   "pygments_lexer": "ipython3",
   "version": "3.8.8"
  }
 },
 "nbformat": 4,
 "nbformat_minor": 5
}
