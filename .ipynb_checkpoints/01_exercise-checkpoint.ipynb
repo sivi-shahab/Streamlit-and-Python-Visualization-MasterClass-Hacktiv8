{
 "cells": [
  {
   "cell_type": "markdown",
   "id": "ea0f1446-51e9-47b2-9204-28c3d649d784",
   "metadata": {},
   "source": [
    "# Latihan Visualisasi Data\n",
    "\n",
    "Bukalah file ```jumlah_guru_SD_jakarta.csv``` dan ```jumlah_sekolah_SD_jakarta.csv``` dan jawab pertanyaan berikut:\n",
    "\n",
    "1. Berapa jumlah guru SD negeri dan swasta secara total ?\n",
    "2. Berapa jumlah sekolah SD negeri dan swasta secara total ?\n",
    "3. Berapakah jumlah guru SD negeri dan swasta dari masing-masing Kota Administratif ? Buat diagram batangnya!\n",
    "4. Berapakah jumlah guru SD negeri dan swasta dari masing-masing Kota Administratif ? Buat diagram batangnya!\n",
    "5. Gabung kedua data tersebut dan buat ```dataframe``` baru !\n",
    "6. Hitunglah rata-rata jumlah guru setiap sekolah di setiap kecamatan !\n",
    "7. Urutkan kecamatan yang memiliki rata-rata jumlah guru yang terbesar sampai yang terkecil !"
   ]
  },
  {
   "cell_type": "code",
   "execution_count": null,
   "id": "50a2b13d-6ca6-4856-a973-155670883ff9",
   "metadata": {},
   "outputs": [],
   "source": []
  }
 ],
 "metadata": {
  "kernelspec": {
   "display_name": "Python 3",
   "language": "python",
   "name": "python3"
  },
  "language_info": {
   "codemirror_mode": {
    "name": "ipython",
    "version": 3
   },
   "file_extension": ".py",
   "mimetype": "text/x-python",
   "name": "python",
   "nbconvert_exporter": "python",
   "pygments_lexer": "ipython3",
   "version": "3.8.8"
  }
 },
 "nbformat": 4,
 "nbformat_minor": 5
}
